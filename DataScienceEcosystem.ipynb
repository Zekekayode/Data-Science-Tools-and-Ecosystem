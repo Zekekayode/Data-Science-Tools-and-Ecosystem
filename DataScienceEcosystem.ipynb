{
 "cells": [
  {
   "cell_type": "markdown",
   "id": "9931d79e-46e5-4517-8851-0a5c77524207",
   "metadata": {},
   "source": [
    "# Data Science Tools and Ecosystem"
   ]
  },
  {
   "cell_type": "markdown",
   "id": "b1d116e1-3c5a-4970-8e03-af7b49b34eb6",
   "metadata": {},
   "source": [
    "In this notebook, Data Science Tools and Ecosystem are summarized."
   ]
  },
  {
   "cell_type": "markdown",
   "id": "ab44bc78-9275-4e1b-a910-1d64e11a10c6",
   "metadata": {},
   "source": [
    "Some of the popular languages that Data Scientists use are:\n",
    "1. Python\n",
    "2. R\n",
    "3. Julia"
   ]
  },
  {
   "cell_type": "markdown",
   "id": "23070ea4-26e5-4452-8280-450b53c491f0",
   "metadata": {},
   "source": [
    "Some of the commonly used libraries used by Data Scientists include:\n",
    "1. pandas\n",
    "2. numpy\n",
    "3. matplotlib\n",
    "4. seaborn\n",
    "5. pytorch\n"
   ]
  },
  {
   "cell_type": "markdown",
   "id": "d5ceb3ff-0104-415f-848a-bc3ebf53e3b8",
   "metadata": {},
   "source": [
    "| Data Science Tools | \n",
    "|---------------------- |\n",
    "| JupyterLab |\n",
    "| Rstudio |\n",
    "|Jupyter Notebook |\n"
   ]
  },
  {
   "cell_type": "markdown",
   "id": "515f20a1-18d8-43ee-8905-e0374c920686",
   "metadata": {},
   "source": [
    "### Below are a few examples of evaluating arithmetic expressions in python"
   ]
  },
  {
   "cell_type": "code",
   "execution_count": 25,
   "id": "c135c66e-917a-4041-ba42-4d4eb7487865",
   "metadata": {},
   "outputs": [
    {
     "data": {
      "text/plain": [
       "17"
      ]
     },
     "execution_count": 25,
     "metadata": {},
     "output_type": "execute_result"
    }
   ],
   "source": [
    "# This is a simple arithmetic expression to multiply and then add integers\n",
    "(3*4)+5"
   ]
  },
  {
   "cell_type": "code",
   "execution_count": 37,
   "id": "1f4af285-48a6-4e51-a875-0dea691708cb",
   "metadata": {},
   "outputs": [
    {
     "name": "stdout",
     "output_type": "stream",
     "text": [
      "3.3333333333333335\n"
     ]
    }
   ],
   "source": [
    "# This will convert 200 minutes to hours by dividing by 60\n",
    "\n",
    "minutes = 200\n",
    "hours = minutes / 60\n",
    "\n",
    "print(hours)"
   ]
  },
  {
   "cell_type": "markdown",
   "id": "e08b1ee0-18ff-4e2b-b82a-0003cd3ffa45",
   "metadata": {},
   "source": [
    "**Objectives**\n",
    "\n",
    "* List of data science tools\n",
    "* Exploratory data analysis with Python\n",
    "* Libraries for data science"
   ]
  },
  {
   "cell_type": "markdown",
   "id": "a8fad190-0f0d-43c4-a112-6524a23416da",
   "metadata": {},
   "source": [
    "## Author\n",
    "\n",
    "Kayode Ezekiel"
   ]
  },
  {
   "cell_type": "code",
   "execution_count": null,
   "id": "94603726-2391-4fd0-8991-28581297afaf",
   "metadata": {},
   "outputs": [],
   "source": []
  }
 ],
 "metadata": {
  "kernelspec": {
   "display_name": "Python [conda env:base] *",
   "language": "python",
   "name": "conda-base-py"
  },
  "language_info": {
   "codemirror_mode": {
    "name": "ipython",
    "version": 3
   },
   "file_extension": ".py",
   "mimetype": "text/x-python",
   "name": "python",
   "nbconvert_exporter": "python",
   "pygments_lexer": "ipython3",
   "version": "3.12.7"
  }
 },
 "nbformat": 4,
 "nbformat_minor": 5
}
